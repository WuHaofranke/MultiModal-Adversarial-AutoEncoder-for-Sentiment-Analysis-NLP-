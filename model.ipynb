{
 "cells": [
  {
   "cell_type": "code",
   "execution_count": 1,
   "metadata": {},
   "outputs": [],
   "source": [
    "from MMAAE import *"
   ]
  },
  {
   "cell_type": "code",
   "execution_count": 2,
   "metadata": {},
   "outputs": [
    {
     "name": "stdout",
     "output_type": "stream",
     "text": [
      "WARNING:tensorflow:Layer lstm will not use cuDNN kernels since it doesn't meet the criteria. It will use a generic GPU kernel as fallback when running on GPU.\n"
     ]
    }
   ],
   "source": [
    "models = MMAAE()"
   ]
  },
  {
   "cell_type": "code",
   "execution_count": 3,
   "metadata": {},
   "outputs": [
    {
     "name": "stdout",
     "output_type": "stream",
     "text": [
      "Model: \"encoder\"\n",
      "__________________________________________________________________________________________________\n",
      " Layer (type)                   Output Shape         Param #     Connected to                     \n",
      "==================================================================================================\n",
      " vis (InputLayer)               [(None, 10, 512)]    0           []                               \n",
      "                                                                                                  \n",
      " conv1d (Conv1D)                (None, 10, 64)       98368       ['vis[0][0]']                    \n",
      "                                                                                                  \n",
      " tex (InputLayer)               [(None, 36, 768)]    0           []                               \n",
      "                                                                                                  \n",
      " conv1d_1 (Conv1D)              (None, 10, 64)       4160        ['conv1d[0][0]']                 \n",
      "                                                                                                  \n",
      " aud (InputLayer)               [(None, 128, 512)]   0           []                               \n",
      "                                                                                                  \n",
      " conv1d_4 (Conv1D)              (None, 34, 64)       147520      ['tex[0][0]']                    \n",
      "                                                                                                  \n",
      " conv1d_5 (Conv1D)              (None, 34, 64)       147520      ['tex[0][0]']                    \n",
      "                                                                                                  \n",
      " conv1d_2 (Conv1D)              (None, 10, 64)       12352       ['conv1d_1[0][0]']               \n",
      "                                                                                                  \n",
      " conv1d_3 (Conv1D)              (None, 63, 64)       98368       ['aud[0][0]']                    \n",
      "                                                                                                  \n",
      " attention (Attention)          (None, 34, 64)       0           ['conv1d_4[0][0]',               \n",
      "                                                                  'conv1d_5[0][0]']               \n",
      "                                                                                                  \n",
      " lstm (LSTM)                    (None, 64)           33024       ['conv1d_2[0][0]']               \n",
      "                                                                                                  \n",
      " bidirectional (Bidirectional)  (None, 64)           24832       ['conv1d_3[0][0]']               \n",
      "                                                                                                  \n",
      " global_average_pooling1d (Glob  (None, 64)          0           ['conv1d_4[0][0]']               \n",
      " alAveragePooling1D)                                                                              \n",
      "                                                                                                  \n",
      " global_average_pooling1d_1 (Gl  (None, 64)          0           ['attention[0][0]']              \n",
      " obalAveragePooling1D)                                                                            \n",
      "                                                                                                  \n",
      " concatenate (Concatenate)      (None, 256)          0           ['lstm[0][0]',                   \n",
      "                                                                  'bidirectional[0][0]',          \n",
      "                                                                  'global_average_pooling1d[0][0]'\n",
      "                                                                 , 'global_average_pooling1d_1[0][\n",
      "                                                                 0]']                             \n",
      "                                                                                                  \n",
      " dense (Dense)                  (None, 128)          32896       ['concatenate[0][0]']            \n",
      "                                                                                                  \n",
      "==================================================================================================\n",
      "Total params: 599,040\n",
      "Trainable params: 599,040\n",
      "Non-trainable params: 0\n",
      "__________________________________________________________________________________________________\n"
     ]
    }
   ],
   "source": [
    "models.encoder.summary()"
   ]
  },
  {
   "cell_type": "code",
   "execution_count": 4,
   "metadata": {},
   "outputs": [
    {
     "name": "stdout",
     "output_type": "stream",
     "text": [
      "Model: \"decoder\"\n",
      "_________________________________________________________________\n",
      " Layer (type)                Output Shape              Param #   \n",
      "=================================================================\n",
      " h_dec (InputLayer)          [(None, 128)]             0         \n",
      "                                                                 \n",
      " dense_1 (Dense)             (None, 512)               66048     \n",
      "                                                                 \n",
      " dense_2 (Dense)             (None, 2560)              1313280   \n",
      "                                                                 \n",
      " reshape (Reshape)           (None, 5, 512)            0         \n",
      "                                                                 \n",
      " up_sampling1d (UpSampling1D  (None, 10, 512)          0         \n",
      " )                                                               \n",
      "                                                                 \n",
      "=================================================================\n",
      "Total params: 1,379,328\n",
      "Trainable params: 1,379,328\n",
      "Non-trainable params: 0\n",
      "_________________________________________________________________\n"
     ]
    }
   ],
   "source": [
    "models.decoder.summary()"
   ]
  },
  {
   "cell_type": "code",
   "execution_count": 5,
   "metadata": {},
   "outputs": [
    {
     "name": "stdout",
     "output_type": "stream",
     "text": [
      "Model: \"disc\"\n",
      "_________________________________________________________________\n",
      " Layer (type)                Output Shape              Param #   \n",
      "=================================================================\n",
      " h_disc (InputLayer)         [(None, 128)]             0         \n",
      "                                                                 \n",
      " dense_3 (Dense)             (None, 1)                 129       \n",
      "                                                                 \n",
      "=================================================================\n",
      "Total params: 129\n",
      "Trainable params: 129\n",
      "Non-trainable params: 0\n",
      "_________________________________________________________________\n"
     ]
    }
   ],
   "source": [
    "models.discriminator.summary()"
   ]
  },
  {
   "cell_type": "code",
   "execution_count": 6,
   "metadata": {},
   "outputs": [
    {
     "name": "stdout",
     "output_type": "stream",
     "text": [
      "Model: \"classifier\"\n",
      "_________________________________________________________________\n",
      " Layer (type)                Output Shape              Param #   \n",
      "=================================================================\n",
      " h_cla (InputLayer)          [(None, 128)]             0         \n",
      "                                                                 \n",
      " dense_4 (Dense)             (None, 3)                 387       \n",
      "                                                                 \n",
      "=================================================================\n",
      "Total params: 387\n",
      "Trainable params: 387\n",
      "Non-trainable params: 0\n",
      "_________________________________________________________________\n"
     ]
    }
   ],
   "source": [
    "models.classifier.summary()"
   ]
  },
  {
   "cell_type": "code",
   "execution_count": null,
   "metadata": {},
   "outputs": [],
   "source": []
  }
 ],
 "metadata": {
  "kernelspec": {
   "display_name": "Python 3.10.8 ('MMAAE')",
   "language": "python",
   "name": "python3"
  },
  "language_info": {
   "codemirror_mode": {
    "name": "ipython",
    "version": 3
   },
   "file_extension": ".py",
   "mimetype": "text/x-python",
   "name": "python",
   "nbconvert_exporter": "python",
   "pygments_lexer": "ipython3",
   "version": "3.10.8"
  },
  "orig_nbformat": 4,
  "vscode": {
   "interpreter": {
    "hash": "8567f5b8911c72db0a9cf9967c86901610440114cc4de33df69d9801a528c2e0"
   }
  }
 },
 "nbformat": 4,
 "nbformat_minor": 2
}
